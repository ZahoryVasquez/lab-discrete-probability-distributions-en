{
 "cells": [
  {
   "cell_type": "markdown",
   "metadata": {},
   "source": [
    "# Before your start:\n",
    "\n",
    "    Read the README.md file\n",
    "    Comment as much as you can and use the resources (README.md file)\n",
    "    Happy learning!\n",
    "\n",
    "*Notes:* \n",
    "\n",
    "- Solve the questions with python.\n",
    "\n",
    "- Round the final answer to three decimal places."
   ]
  },
  {
   "cell_type": "code",
   "execution_count": 25,
   "metadata": {},
   "outputs": [],
   "source": [
    "from scipy import stats\n",
    "import numpy as np\n",
    "import matplotlib.pyplot as plt\n",
    "import math"
   ]
  },
  {
   "cell_type": "markdown",
   "metadata": {},
   "source": [
    "## Bernoulli's Distribution\n",
    "\n",
    "In a basket containing 100 fruits, there are 60 apples and 40 oranges. \n",
    "\n",
    "A fruit is picked randomly from the basket. \n",
    "\n",
    "1. **What is the probability that the fruit is apple?**\n",
    "1. **What is the probability that it is an orange?**"
   ]
  },
  {
   "cell_type": "code",
   "execution_count": 26,
   "metadata": {},
   "outputs": [],
   "source": [
    "A = 60\n",
    "O = 40\n",
    "Total = A + O"
   ]
  },
  {
   "cell_type": "code",
   "execution_count": 27,
   "metadata": {},
   "outputs": [
    {
     "name": "stdout",
     "output_type": "stream",
     "text": [
      "P(A) =  0.6\n",
      "P(O) =  0.4\n"
     ]
    }
   ],
   "source": [
    "\"\"\"\n",
    "Calculate:\n",
    "p = probability that the fruit is an apple \n",
    "q = probability that the fruit is an orange\n",
    "\"\"\"\n",
    "P = A/Total\n",
    "Q = O/Total\n",
    "print(\"P(A) = \", P)\n",
    "print(\"P(O) = \", Q)"
   ]
  },
  {
   "cell_type": "markdown",
   "metadata": {},
   "source": [
    "Now we take a random sample of 20 fruits from the basket. After each fruit is taken, a new fruit of the same type is replaced in the basket. Therefore, every time we are taking 1 fruit from 100 fruits. \n",
    "\n",
    "1. **What is the probability that the first 5 fruits are all apples?**\n",
    "\n",
    "1. **What is the probability that the first 5 fruits are all apples and the next 15 fruits are all oranges?**\n",
    "\n",
    "You can include the `p` and `q` probabilities you previous calculated in your solution."
   ]
  },
  {
   "cell_type": "code",
   "execution_count": 28,
   "metadata": {},
   "outputs": [
    {
     "name": "stdout",
     "output_type": "stream",
     "text": [
      "P(5 apples) =  0.07775999999999998\n",
      "P(5 apples, 15 oranges) =  8.349416423424006e-08\n"
     ]
    }
   ],
   "source": [
    "#1 What is the probability that the first 5 fruits are all apples?\n",
    "p_5_apples = P ** 5\n",
    "print(\"P(5 apples) = \", p_5_apples)\n",
    "\n",
    "#2 What is the probability that the first 5 fruits are apples and the next 15 fruits are all oranges?\n",
    "p_5_apples_2 = P ** 5\n",
    "p_15_oranges = Q ** 15\n",
    "p_5_apples_15_oranges = p_5_apples_2 * p_15_oranges\n",
    "print(\"P(5 apples, 15 oranges) = \", p_5_apples_15_oranges)\n"
   ]
  },
  {
   "cell_type": "markdown",
   "metadata": {},
   "source": [
    "## Binomial Distribution\n",
    "\n",
    "Similar to the above problem, this time again we randomly sample 20 fruits.\n",
    "\n",
    "**What is the probability that this time the sample contains 5 apples and 15 oranges?**\n",
    "\n",
    "Please note that this time the order of the fruits being picked does not matter."
   ]
  },
  {
   "cell_type": "markdown",
   "metadata": {},
   "source": [
    "#you can use the probability of apples or organges, both of them works bc is a bonomial distribution. "
   ]
  },
  {
   "cell_type": "code",
   "execution_count": 59,
   "metadata": {},
   "outputs": [
    {
     "name": "stdout",
     "output_type": "stream",
     "text": [
      "probability of picking 5 apples: 0.001294\n"
     ]
    }
   ],
   "source": [
    "from scipy.stats import binom\n",
    "#refers to the total number of fruits picked\n",
    "n = 20      \n",
    "# refers to the number of apples picked\n",
    "k = 5      \n",
    "# refers to the probability of picking an apple\n",
    "P = 0.6     \n",
    "\n",
    "# Binomial probability mass function (pmf)\n",
    "prob_5_apples = binom.pmf(k, n, P)\n",
    "print(f\"probability of picking {k} apples: {prob_5_apples:.6f}\")"
   ]
  },
  {
   "cell_type": "code",
   "execution_count": 56,
   "metadata": {},
   "outputs": [
    {
     "name": "stdout",
     "output_type": "stream",
     "text": [
      "probability of picking 15 oranges: 0.001294\n"
     ]
    }
   ],
   "source": [
    "from scipy.stats import binom\n",
    "#refers to the total number of fruits picked\n",
    "n = 20      \n",
    "# refers to the number of apples picked\n",
    "k = 15      \n",
    "# refers to the probability of picking an apple\n",
    "Q = 0.4     \n",
    "\n",
    "# Binomial probability mass function (pmf)\n",
    "prob_15_oranges = binom.pmf(k, n, Q)\n",
    "print(f\"probability of picking {k} oranges: {prob_15_oranges:.6f}\")"
   ]
  },
  {
   "cell_type": "markdown",
   "metadata": {},
   "source": [
    "In the lesson we also discussed CDF (cumulative distribution function). In the context of the above problem, **what is the probability that less than 5 fruits picked are apples?**\n",
    "\n",
    "Write the formula and calculate the probability below."
   ]
  },
  {
   "cell_type": "code",
   "execution_count": null,
   "metadata": {},
   "outputs": [
    {
     "name": "stdout",
     "output_type": "stream",
     "text": [
      "Probability of less than 5 apples: 0.0003\n"
     ]
    }
   ],
   "source": [
    "# your code here\n",
    "# Less than 5 apples means we need to calculate the cumulative distribution function (CDF) for k = 4\n",
    "# This gives us the probability of getting 0, 1, 2, 3, or 4 apples in 20 trials.\n",
    "# We can use the binomial distribution CDF\n",
    "# parameters\n",
    "# refers to the total number of trials (fruits picked)\n",
    "n = 20\n",
    "# refers to the probability of picking an apple\n",
    "P = 0.6       \n",
    "k = 4         # \"less than 5\" means k <= 4\n",
    "\n",
    "# CDF calculation\n",
    "prob_less_than_5 = binom.cdf(k, n, P)\n",
    "print(f\"Probability of less than 5 apples: {prob_less_than_5:.4f}\")\n",
    "# Parameters\n",
    "n = 20       # total number of picks\n",
    "P = 0.6      # probability of apple in one pick"
   ]
  },
  {
   "cell_type": "markdown",
   "metadata": {},
   "source": [
    "<!-- **Plot the PDF (probability distributiom function) for the above binomial distribution.** -->\n",
    "\n",
    "**Plot the Probability Mass Function (PMF) for the above binomial distribution.**\n",
    "\n",
    "*Hint: The range of x in a binomial distribution is from `0` to `n`.*"
   ]
  },
  {
   "cell_type": "code",
   "execution_count": 66,
   "metadata": {},
   "outputs": [
    {
     "data": {
      "image/png": "[encoded data removed]",
      "text/plain": [
       "<Figure size 640x480 with 1 Axes>"
      ]
     },
     "metadata": {},
     "output_type": "display_data"
    }
   ],
   "source": [
    "# Range of possible apple counts\n",
    "x = np.arange(0, n+1)\n",
    "# your code here\n",
    "# Please label the axes and give a title to the plot \n",
    "# PMF values\n",
    "pmf_values = binom.pmf(x, n, P)\n",
    "\n",
    "# Plot PMF\n",
    "plt.bar(x, pmf_values, color='skyblue', edgecolor='black')\n",
    "plt.title('PMF - Binomial Distribution (n=20, P=0.6)')\n",
    "plt.xlabel('Number of Apples (x)')\n",
    "plt.ylabel('Probability')\n",
    "plt.xticks(x)\n",
    "plt.grid(axis='y', linestyle='--', alpha=0.7)\n",
    "plt.show()"
   ]
  },
  {
   "cell_type": "markdown",
   "metadata": {},
   "source": [
    "## Poisson Distribution\n",
    "\n",
    "In this challenge you are required to use the Math library in python to solve the problems.\n",
    "\n",
    "In the UEFA champions league tournament, the average number of goals scored in a match is 2.3. \n",
    "\n",
    "**What is the probability that the number of goals scored in a match is 5?**\n",
    "\n",
    "*Hint: Use the exp() in the math library*\n",
    "\n",
    "And to calculate the factorial, you can use the following code:\n",
    "\n",
    "```python\n",
    "import math\n",
    "math.factorial(n) # n is the number you want to find the factorial of\n",
    "```"
   ]
  },
  {
   "cell_type": "code",
   "execution_count": 70,
   "metadata": {},
   "outputs": [
    {
     "name": "stdout",
     "output_type": "stream",
     "text": [
      "Probability of exactly 5 goals: 0.0538\n"
     ]
    }
   ],
   "source": [
    "# your code here \n",
    "from scipy.stats import poisson\n",
    "import matplotlib.pyplot as plt\n",
    "\n",
    "lmbda = 2.3\n",
    "k = 5\n",
    "# The Poisson distribution is used for modeling the number of events in a fixed interval of time\n",
    "# or space, given a known average rate (lambda).\n",
    "# The formula for the Poisson probability mass function is:\n",
    "# P(X = k) = (e^(-λ) * λ^k) / k!\n",
    "# where:\n",
    "# - λ (lambda) is the average number of events in the interval\n",
    "# - k is the number of events we want to find the probability for\n",
    "# - e is the base of the natural logarithm (approximately 2.71828)\n",
    "# - k! is the factorial of k\n",
    "# In this case, we want to find the probability of exactly k goals scored in a match\n",
    "# using the Poisson distribution with a given lambda (lmbda).\n",
    "# Calculate the Poisson probability\n",
    "poisson_prob = (math.exp(-lmbda) * (lmbda ** k)) / math.factorial(k)\n",
    "print(f\"Probability of exactly {k} goals: {poisson_prob:.4f}\")"
   ]
  },
  {
   "cell_type": "markdown",
   "metadata": {},
   "source": [
    "**Draw a poisson probability distribution plot for the number of goals to be between 0 to 10.**"
   ]
  },
  {
   "cell_type": "code",
   "execution_count": 80,
   "metadata": {},
   "outputs": [
    {
     "data": {
      "image/png": "[encoded data removed]",
      "text/plain": [
       "<Figure size 640x480 with 1 Axes>"
      ]
     },
     "metadata": {},
     "output_type": "display_data"
    }
   ],
   "source": [
    "# your code here\n",
    "# Please label the axes and give a title to the plot \n",
    "\n",
    "# Parameters\n",
    "lambda_ = 2.3  # average goals per match\n",
    "x_values = list(range(0, 11))  # from 0 to 10 goals\n",
    "\n",
    "# Poisson PMF formula\n",
    "poisson_pmf = [(math.exp(-lambda_) * (lambda_**x) / math.factorial(x)) for x in x_values]\n",
    "\n",
    "# Create a bar plot\n",
    "plt.bar(x_values, poisson_pmf, color='skyblue', edgecolor='black')\n",
    "plt.title(\"Poisson Probability Distribution (λ=2.3)\")\n",
    "plt.xlabel(\"Number of Goals\")\n",
    "plt.ylabel(\"Probability\")\n",
    "plt.xticks(x_values)\n",
    "plt.show()\n",
    "\n"
   ]
  }
 ],
 "metadata": {
  "kernelspec": {
   "display_name": "base",
   "language": "python",
   "name": "python3"
  },
  "language_info": {
   "codemirror_mode": {
    "name": "ipython",
    "version": 3
   },
   "file_extension": ".py",
   "mimetype": "text/x-python",
   "name": "python",
   "nbconvert_exporter": "python",
   "pygments_lexer": "ipython3",
   "version": "3.13.5"
  }
 },
 "nbformat": 4,
 "nbformat_minor": 2
}
